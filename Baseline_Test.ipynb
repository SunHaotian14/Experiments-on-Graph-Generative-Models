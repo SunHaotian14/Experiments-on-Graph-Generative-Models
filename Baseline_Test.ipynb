{
 "cells": [
  {
   "cell_type": "markdown",
   "metadata": {},
   "source": [
    "# Experiments on Graph-Generative-Models\n",
    "In this notebook, we aim to evluate the performance of \"GDSS\" proposed in \"Score-based Generative Modeling of Graphs via the System of Stochastic Differential Equations\" (https://arxiv.org/pdf/2202.02514.pdf). The baseline model is tested on 3 datasets (Grid, Protein, 3D Point Cloud) and measured under 4 metrics (degree, clustering, orbit, graph spectrum)."
   ]
  },
  {
   "cell_type": "code",
   "execution_count": null,
   "metadata": {},
   "outputs": [
    {
     "ename": "",
     "evalue": "",
     "output_type": "error",
     "traceback": [
      "\u001b[1;31mRunning cells with 'Python 3.7.13 ('GDSS_env')' requires ipykernel package.\n",
      "\u001b[1;31mRun the following command to install 'ipykernel' into the Python environment. \n",
      "\u001b[1;31mCommand: 'conda install -n GDSS_env ipykernel --update-deps --force-reinstall'"
     ]
    }
   ],
   "source": [
    "import torch\n",
    "import argparse\n",
    "import time\n",
    "from parsers.parser import Parser\n",
    "from parsers.config import get_config\n",
    "from trainer import Trainer\n",
    "from sampler import Sampler, Sampler_mol\n",
    "import os\n",
    "\n",
    "path = \"./GDSS/\"\n",
    "os.chdir(path)\n",
    "\n",
    "def main(work_type_args):\n",
    "    ts = time.strftime('%b%d-%H:%M:%S', time.gmtime())\n",
    "    args = Parser().parse()\n",
    "    config = get_config(args.config, args.seed)\n",
    "\n",
    "    # -------- Train --------\n",
    "    if work_type_args.type == 'train':\n",
    "        trainer = Trainer(config) \n",
    "        ckpt = trainer.train(ts)\n",
    "        if 'sample' in config.keys():\n",
    "            config.ckpt = ckpt\n",
    "            sampler = Sampler(config) \n",
    "            sampler.sample()\n",
    "\n",
    "    # -------- Generation --------\n",
    "    elif work_type_args.type == 'sample':\n",
    "        if config.data.data in ['QM9', 'ZINC250k']:\n",
    "            sampler = Sampler_mol(config)\n",
    "        else:\n",
    "            sampler = Sampler(config) \n",
    "        sampler.sample()\n",
    "        \n",
    "    else:\n",
    "        raise ValueError(f'Wrong type : {work_type_args.type}')\n",
    "\n",
    "if __name__ == '__main__':\n",
    "\n",
    "    work_type_parser = argparse.ArgumentParser()\n",
    "    work_type_parser.add_argument('--type', type=str, required=True)\n",
    "    main(work_type_parser.parse_known_args()[0])"
   ]
  }
 ],
 "metadata": {
  "kernelspec": {
   "display_name": "Python 3.7.13 ('GDSS_env')",
   "language": "python",
   "name": "python3"
  },
  "language_info": {
   "name": "python",
   "version": "3.7.13"
  },
  "orig_nbformat": 4,
  "vscode": {
   "interpreter": {
    "hash": "c154a6e913370b3048d4224c64056db13e3907ff8e1125622ab77ec4e5033cc1"
   }
  }
 },
 "nbformat": 4,
 "nbformat_minor": 2
}
